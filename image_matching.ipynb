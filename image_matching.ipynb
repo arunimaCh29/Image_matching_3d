{
 "cells": [
  {
   "cell_type": "markdown",
   "metadata": {},
   "source": [
    "# Image matching dataset\n",
    "- Download the dataset from Kaggle competition page: [Image Matching Challenge 2025](https://www.kaggle.com/competitions/image-matching-challenge-2025/data)\n",
    "- Custom Dataset class to load the dataset\n",
    "- Normalize the images with mean and std of 0.5 for all channels."
   ]
  },
  {
   "cell_type": "code",
   "execution_count": 8,
   "metadata": {},
   "outputs": [],
   "source": [
    "from data_preprocess.image_matching_dataset import ImageMatchingDataset\n",
    "import torchvision.transforms as transforms\n",
    "import torch\n",
    "\n",
    "train_dataset = ImageMatchingDataset(labels_path='data/train_labels.csv', root_dir='data/train',\n",
    "                               transform=transforms.Compose([\n",
    "                                   transforms.ToTensor(),\n",
    "                                   transforms.Normalize(mean=[0.5, 0.5, 0.5], std=[0.5, 0.5, 0.5])\n",
    "                               ]))"
   ]
  },
  {
   "cell_type": "markdown",
   "metadata": {},
   "source": [
    "## Initial Analysis of the dataset"
   ]
  },
  {
   "cell_type": "markdown",
   "metadata": {},
   "source": [
    "## Creating descriptors for the dataset and saving them"
   ]
  },
  {
   "cell_type": "code",
   "execution_count": 13,
   "metadata": {},
   "outputs": [],
   "source": [
    "from torch.utils.data import DataLoader\n",
    "\n",
    "DEVICE = torch.device(0 if torch.cuda.is_available() else -1)\n",
    "\n",
    "train_loader = DataLoader(train_dataset, batch_size=16, shuffle=True, num_workers=10)\n"
   ]
  },
  {
   "cell_type": "code",
   "execution_count": null,
   "metadata": {},
   "outputs": [],
   "source": [
    "'''Replace extract_descriptor with proper function'''\n",
    "import datetime\n",
    "import os\n",
    "BATCH_SIZE = 16\n",
    "NUM_WORKERS = 1\n",
    "dir_name = 'data_descriptors'\n",
    "\n",
    "processed_data = []\n",
    "\n",
    "for batch in train_loader:\n",
    "    descriptors = compute_descriptors(batch)\n",
    "    batch['sift_descriptors'] = descriptors\n",
    "    processed_data.append(batch)\n",
    "\n",
    "\n",
    "\n",
    "print('-----Saving descriptors-----')\n",
    "\n",
    "if not os.path.exists(dir_name):\n",
    "    os.makedirs(os.path.dirname(dir_name), exist_ok=True)\n",
    "\n",
    "timestamp = datetime.now().strftime(\"%Y%m%d%H%M%S\")\n",
    "torch.save(processed_data, os.path.join(dir_name, f'image_matching_{timestamp}.pt'))\n",
    "\n",
    "\n",
    "\n"
   ]
  },
  {
   "cell_type": "code",
   "execution_count": null,
   "metadata": {},
   "outputs": [],
   "source": [
    "def process_single_image(image):\n",
    "    \"\"\"Function to process single image with SIFT - will run in parallel\"\"\"\n",
    "    # Create SIFT detector (each worker needs its own instance)\n",
    "    sift = cv2.SIFT_create(nfeatures=1000)\n",
    "    \n",
    "    # Convert tensor to numpy for OpenCV\n",
    "    if torch.is_tensor(image):\n",
    "        image = image.permute(1, 2, 0).numpy()\n",
    "    \n",
    "    # Convert RGB to BGR for OpenCV\n",
    "    image_bgr = cv2.cvtColor(image, cv2.COLOR_RGB2BGR)\n",
    "    \n",
    "    # Compute SIFT\n",
    "    keypoints, descriptors = sift.detectAndCompute(image_bgr, None)\n",
    "    \n",
    "    return keypoints, descriptors\n",
    "\n",
    "# Custom collate function to handle SIFT processing in parallel\n",
    "def sift_collate_fn(batch):\n",
    "    \"\"\"Process batch in parallel using DataLoader workers\"\"\"\n",
    "    images = [item['image'] for item in batch]\n",
    "    \n",
    "    # Process each image in the batch (this runs in parallel across workers)\n",
    "    sift_results = [process_single_image(img) for img in images]\n",
    "    \n",
    "    # Add SIFT results back to batch items\n",
    "    for item, (kp, desc) in zip(batch, sift_results):\n",
    "        item['keypoints'] = kp\n",
    "        item['descriptors'] = desc\n",
    "    \n",
    "    return batch\n",
    "\n",
    "# Create DataLoader with parallel processing\n",
    "dataloader = DataLoader(\n",
    "    dataset,\n",
    "    batch_size=32,  # Now we can use larger batch size\n",
    "    num_workers=4,  # Number of parallel workers\n",
    "    shuffle=False,\n",
    "    collate_fn=sift_collate_fn  # Use our custom collate function\n",
    ")\n",
    "\n",
    "# Process and save data\n",
    "processed_data = []\n",
    "for batch in dataloader:\n",
    "    processed_data.extend(batch)  # batch is already processed by collate_fn\n",
    "\n",
    "# Save the processed data\n",
    "torch.save(processed_data, 'path/to/save/sift_features.pt')"
   ]
  }
 ],
 "metadata": {
  "kernelspec": {
   "display_name": "dlrv",
   "language": "python",
   "name": "python3"
  },
  "language_info": {
   "codemirror_mode": {
    "name": "ipython",
    "version": 3
   },
   "file_extension": ".py",
   "mimetype": "text/x-python",
   "name": "python",
   "nbconvert_exporter": "python",
   "pygments_lexer": "ipython3",
   "version": "3.12.9"
  }
 },
 "nbformat": 4,
 "nbformat_minor": 2
}
