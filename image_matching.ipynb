{
 "cells": [
  {
   "cell_type": "markdown",
   "metadata": {},
   "source": [
    "# Image matching dataset\n",
    "- Download the dataset from Kaggle competition page: [Image Matching Challenge 2025](https://www.kaggle.com/competitions/image-matching-challenge-2025/data)\n",
    "- Custom Dataset class to load the dataset\n",
    "- Normalize the images with mean and std of 0.5 for all channels."
   ]
  },
  {
   "cell_type": "code",
   "execution_count": 11,
   "metadata": {},
   "outputs": [],
   "source": [
    "from data_preprocess.image_matching_dataset import ImageMatchingDataset\n",
    "import torchvision.transforms as transforms\n",
    "import torch\n",
    "\n",
    "train_dataset = ImageMatchingDataset(labels_path='data/train_labels.csv', root_dir='data/train',\n",
    "                               transform=transforms.Compose([\n",
    "                                   transforms.ToTensor(),\n",
    "                                   transforms.Normalize(mean=[0.5, 0.5, 0.5], std=[0.5, 0.5, 0.5])\n",
    "                               ]))"
   ]
  },
  {
   "cell_type": "markdown",
   "metadata": {},
   "source": [
    "## Initial Analysis of the dataset"
   ]
  },
  {
   "cell_type": "markdown",
   "metadata": {},
   "source": [
    "## Creating descriptors for the dataset and saving them"
   ]
  },
  {
   "cell_type": "code",
   "execution_count": 13,
   "metadata": {},
   "outputs": [
    {
     "ename": "RuntimeError",
     "evalue": "Device index must not be negative",
     "output_type": "error",
     "traceback": [
      "\u001b[31m---------------------------------------------------------------------------\u001b[39m",
      "\u001b[31mRuntimeError\u001b[39m                              Traceback (most recent call last)",
      "\u001b[36mCell\u001b[39m\u001b[36m \u001b[39m\u001b[32mIn[13]\u001b[39m\u001b[32m, line 3\u001b[39m\n\u001b[32m      1\u001b[39m \u001b[38;5;28;01mfrom\u001b[39;00m\u001b[38;5;250m \u001b[39m\u001b[34;01mtorch\u001b[39;00m\u001b[34;01m.\u001b[39;00m\u001b[34;01mutils\u001b[39;00m\u001b[34;01m.\u001b[39;00m\u001b[34;01mdata\u001b[39;00m\u001b[38;5;250m \u001b[39m\u001b[38;5;28;01mimport\u001b[39;00m DataLoader\n\u001b[32m----> \u001b[39m\u001b[32m3\u001b[39m DEVICE = \u001b[43mtorch\u001b[49m\u001b[43m.\u001b[49m\u001b[43mdevice\u001b[49m\u001b[43m(\u001b[49m\u001b[32;43m0\u001b[39;49m\u001b[43m \u001b[49m\u001b[38;5;28;43;01mif\u001b[39;49;00m\u001b[43m \u001b[49m\u001b[43mtorch\u001b[49m\u001b[43m.\u001b[49m\u001b[43mcuda\u001b[49m\u001b[43m.\u001b[49m\u001b[43mis_available\u001b[49m\u001b[43m(\u001b[49m\u001b[43m)\u001b[49m\u001b[43m \u001b[49m\u001b[38;5;28;43;01melse\u001b[39;49;00m\u001b[43m \u001b[49m\u001b[43m-\u001b[49m\u001b[32;43m1\u001b[39;49m\u001b[43m)\u001b[49m\n\u001b[32m      5\u001b[39m \u001b[33;03m'''Create a dataloader for train dataset such that each batch contains images from same dataset class'''\u001b[39;00m\n\u001b[32m      6\u001b[39m train_loader = DataLoader(train_dataset, batch_size=\u001b[32m16\u001b[39m, shuffle=\u001b[38;5;28;01mTrue\u001b[39;00m, num_workers=\u001b[32m1\u001b[39m)\n",
      "\u001b[31mRuntimeError\u001b[39m: Device index must not be negative"
     ]
    }
   ],
   "source": [
    "from torch.utils.data import DataLoader\n",
    "\n",
    "DEVICE = torch.device(0 if torch.cuda.is_available() else -1)\n",
    "\n",
    "train_loader = DataLoader(train_dataset, batch_size=16, shuffle=True, num_workers=10)\n"
   ]
  },
  {
   "cell_type": "code",
   "execution_count": 15,
   "metadata": {},
   "outputs": [
    {
     "name": "stdout",
     "output_type": "stream",
     "text": [
      "410\n",
      "410\n"
     ]
    }
   ],
   "source": [
    "from feature_matching.lightglue_matcher import get_SIFT_features, get_DISK_features, match_features\n",
    "\n",
    "feats0 = get_SIFT_features('.\\\\data\\\\train\\\\amy_gardens\\\\peach_0004.png')\n",
    "feats1 = get_SIFT_features('.\\\\data\\\\train\\\\amy_gardens\\\\peach_0008.png')\n",
    "points0, points1 = match_features(image0_features=feats0, image1_features=feats1, descriptor='sift')\n",
    "\n",
    "print(len(points0))\n",
    "print(len(points1))"
   ]
  },
  {
   "cell_type": "code",
   "execution_count": 16,
   "metadata": {},
   "outputs": [
    {
     "name": "stdout",
     "output_type": "stream",
     "text": [
      "901\n",
      "901\n"
     ]
    }
   ],
   "source": [
    "feats0 = get_DISK_features('.\\\\data\\\\train\\\\amy_gardens\\\\peach_0004.png')\n",
    "feats1 = get_DISK_features('.\\\\data\\\\train\\\\amy_gardens\\\\peach_0008.png')\n",
    "points0, points1 = match_features(image0_features=feats0, image1_features=feats1, descriptor='disk')\n",
    "\n",
    "print(len(points0))\n",
    "print(len(points1))"
   ]
  },
  {
   "cell_type": "code",
   "execution_count": null,
   "metadata": {},
   "outputs": [],
   "source": [
    "'''Replace extract_descriptor with proper function'''\n",
    "import datetime\n",
    "import os\n",
    "BATCH_SIZE = 16\n",
    "NUM_WORKERS = 1\n",
    "dir_name = 'data_descriptors'\n",
    "\n",
    "processed_data = []\n",
    "\n",
    "for batch in train_loader:\n",
    "    descriptors = compute_descriptors(batch)\n",
    "    batch['sift_descriptors'] = descriptors\n",
    "    processed_data.append(batch)\n",
    "\n",
    "\n",
    "\n",
    "print('-----Saving descriptors-----')\n",
    "\n",
    "if not os.path.exists(dir_name):\n",
    "    os.makedirs(os.path.dirname(dir_name), exist_ok=True)\n",
    "\n",
    "timestamp = datetime.now().strftime(\"%Y%m%d%H%M%S\")\n",
    "torch.save(processed_data, os.path.join(dir_name, f'image_matching_{timestamp}.pt'))\n",
    "\n",
    "\n",
    "\n"
   ]
  },
  {
   "cell_type": "code",
   "execution_count": null,
   "metadata": {},
   "outputs": [],
   "source": [
    "def process_single_image(image):\n",
    "    \"\"\"Function to process single image with SIFT - will run in parallel\"\"\"\n",
    "    # Create SIFT detector (each worker needs its own instance)\n",
    "    sift = cv2.SIFT_create(nfeatures=1000)\n",
    "    \n",
    "    # Convert tensor to numpy for OpenCV\n",
    "    if torch.is_tensor(image):\n",
    "        image = image.permute(1, 2, 0).numpy()\n",
    "    \n",
    "    # Convert RGB to BGR for OpenCV\n",
    "    image_bgr = cv2.cvtColor(image, cv2.COLOR_RGB2BGR)\n",
    "    \n",
    "    # Compute SIFT\n",
    "    keypoints, descriptors = sift.detectAndCompute(image_bgr, None)\n",
    "    \n",
    "    return keypoints, descriptors\n",
    "\n",
    "# Custom collate function to handle SIFT processing in parallel\n",
    "def sift_collate_fn(batch):\n",
    "    \"\"\"Process batch in parallel using DataLoader workers\"\"\"\n",
    "    images = [item['image'] for item in batch]\n",
    "    \n",
    "    # Process each image in the batch (this runs in parallel across workers)\n",
    "    sift_results = [process_single_image(img) for img in images]\n",
    "    \n",
    "    # Add SIFT results back to batch items\n",
    "    for item, (kp, desc) in zip(batch, sift_results):\n",
    "        item['keypoints'] = kp\n",
    "        item['descriptors'] = desc\n",
    "    \n",
    "    return batch\n",
    "\n",
    "# Create DataLoader with parallel processing\n",
    "dataloader = DataLoader(\n",
    "    dataset,\n",
    "    batch_size=32,  # Now we can use larger batch size\n",
    "    num_workers=4,  # Number of parallel workers\n",
    "    shuffle=False,\n",
    "    collate_fn=sift_collate_fn  # Use our custom collate function\n",
    ")\n",
    "\n",
    "# Process and save data\n",
    "processed_data = []\n",
    "for batch in dataloader:\n",
    "    processed_data.extend(batch)  # batch is already processed by collate_fn\n",
    "\n",
    "# Save the processed data\n",
    "torch.save(processed_data, 'path/to/save/sift_features.pt')"
   ]
  }
 ],
 "metadata": {
  "kernelspec": {
   "display_name": ".venv",
   "language": "python",
   "name": "python3"
  },
  "language_info": {
   "codemirror_mode": {
    "name": "ipython",
    "version": 3
   },
   "file_extension": ".py",
   "mimetype": "text/x-python",
   "name": "python",
   "nbconvert_exporter": "python",
   "pygments_lexer": "ipython3",
   "version": "3.13.5"
  }
 },
 "nbformat": 4,
 "nbformat_minor": 2
}
